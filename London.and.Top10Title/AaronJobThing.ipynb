{
 "cells": [
  {
   "cell_type": "code",
   "execution_count": 1,
   "metadata": {
    "collapsed": true
   },
   "outputs": [],
   "source": [
    "%matplotlib inline\n",
    "\n",
    "# First version authored by Aaron McDaid  - aaron.mcdaid@gmail.com. But feel free to add to it.\n",
    "# I'm quite new to some of these modules ('pandas' in particular, so don't hesitate to send feedback!)\n",
    "\n",
    "import matplotlib.pyplot as plt # for the scatter plots\n",
    "\n",
    "import pandas # to read the data from the csv file\n",
    "import itertools as it # to help deal with generators\n",
    "from collections import defaultdict\n",
    "import math\n",
    "\n",
    "from scipy.stats.stats import pearsonr # to compute correlation. Remember variance-explained is correlation-squared\n",
    "\n",
    "# Next two imports for the regression\n",
    "import statsmodels.formula.api as smf"
   ]
  },
  {
   "cell_type": "code",
   "execution_count": 2,
   "metadata": {
    "collapsed": true
   },
   "outputs": [],
   "source": [
    "tr1 = pandas.read_csv('train_data_with_long_lat_another.csv')"
   ]
  },
  {
   "cell_type": "code",
   "execution_count": 3,
   "metadata": {},
   "outputs": [
    {
     "data": {
      "text/plain": [
       "array(['Unnamed: 0', 'Id', 'Title', 'FullDescription', 'LocationRaw',\n",
       "       'LocationNormalized', 'ContractType', 'ContractTime', 'Company',\n",
       "       'Category', 'SalaryRaw', 'SalaryNormalized', 'SourceName', 'town',\n",
       "       'latitude', 'longitude', 'address', 'country', 'London',\n",
       "       'Manchester', 'Birmingham', 'Leeds', 'Glasgow', 'Liverpool',\n",
       "       'Southampton', 'Newcastle', 'Nottingham', 'Sheffield'], dtype=object)"
      ]
     },
     "execution_count": 3,
     "metadata": {},
     "output_type": "execute_result"
    }
   ],
   "source": [
    "tr1.columns.values # see the column names, make sure we've got what we need"
   ]
  },
  {
   "cell_type": "code",
   "execution_count": 4,
   "metadata": {
    "collapsed": true
   },
   "outputs": [],
   "source": [
    "# Define a few useful functions\n",
    "\n",
    "# the first 10 from a generator, returned as a list\n",
    "def hd(g, n=10):\n",
    "    return list( it.islice(g, n))\n",
    "\n",
    "# convert a pandas column to a good old generator\n",
    "def columnToGen(c):    \n",
    "    for x in c.values:\n",
    "        yield x"
   ]
  },
  {
   "cell_type": "code",
   "execution_count": 5,
   "metadata": {
    "collapsed": true
   },
   "outputs": [],
   "source": [
    "# In the next few cells, we identify the ten most common words in the 'Title'\n",
    "\n",
    "title_word_frequency = defaultdict(int)\n",
    "title_words=it.chain.from_iterable(x.tolist()[0].lower().split() for x in tr1[['Title']].values)\n",
    "title_words = it.chain(title_words)\n",
    "for tw in title_words:\n",
    "    title_word_frequency[tw] = title_word_frequency[tw] + 1"
   ]
  },
  {
   "cell_type": "code",
   "execution_count": 6,
   "metadata": {
    "collapsed": true
   },
   "outputs": [],
   "source": [
    "# works that appear a lot, but I think are probably boring\n",
    "discarded_words = set(['****','/','de','to','****k'])"
   ]
  },
  {
   "cell_type": "code",
   "execution_count": 7,
   "metadata": {},
   "outputs": [
    {
     "name": "stdout",
     "output_type": "stream",
     "text": [
      "(11152, 'developer')\n",
      "(5438, 'engineer')\n",
      "(4361, 'analyst')\n",
      "(4219, 'manager')\n",
      "(3888, 'senior')\n",
      "(3728, 'software')\n",
      "(3309, 'support')\n",
      "(2537, 'web')\n",
      "(2402, 'c')\n",
      "(2261, 'it')\n",
      "['developer', 'engineer', 'analyst', 'manager', 'senior', 'software', 'support', 'web', 'c', 'it']\n"
     ]
    }
   ],
   "source": [
    "# Finally print the top ten words\n",
    "\n",
    "top10 = hd(sorted(list(((v, k) for k, v in title_word_frequency.items() if k not in discarded_words)), reverse=True))\n",
    "for top in top10:\n",
    "    print top\n",
    "top10words = list(v for k,v in top10)\n",
    "print top10words"
   ]
  },
  {
   "cell_type": "code",
   "execution_count": 8,
   "metadata": {
    "collapsed": true
   },
   "outputs": [],
   "source": [
    "# Create 10 binary columns in the data\n",
    "# i.e. create a 'contains_developer' column, containing 'True' or\n",
    "# 'False' depending on whether 'developer' appears in the 'Title' field.\n",
    "# Case insensitive\n",
    "\n",
    "for top10 in top10words:\n",
    "    tr1['contains_' + top10] = list(\n",
    "        (top10.lower() in y.split()) # the boolean test\n",
    "        for x in tr1[['Title']].values # the individual cells in a the Title pandas column\n",
    "        for y in [x.tolist()[0].lower()] # (ugly) convert the cells to a plain old string\n",
    "    )"
   ]
  },
  {
   "cell_type": "code",
   "execution_count": 9,
   "metadata": {},
   "outputs": [
    {
     "data": {
      "text/plain": [
       "array(['Unnamed: 0', 'Id', 'Title', 'FullDescription', 'LocationRaw',\n",
       "       'LocationNormalized', 'ContractType', 'ContractTime', 'Company',\n",
       "       'Category', 'SalaryRaw', 'SalaryNormalized', 'SourceName', 'town',\n",
       "       'latitude', 'longitude', 'address', 'country', 'London',\n",
       "       'Manchester', 'Birmingham', 'Leeds', 'Glasgow', 'Liverpool',\n",
       "       'Southampton', 'Newcastle', 'Nottingham', 'Sheffield',\n",
       "       'contains_developer', 'contains_engineer', 'contains_analyst',\n",
       "       'contains_manager', 'contains_senior', 'contains_software',\n",
       "       'contains_support', 'contains_web', 'contains_c', 'contains_it'], dtype=object)"
      ]
     },
     "execution_count": 9,
     "metadata": {},
     "output_type": "execute_result"
    }
   ],
   "source": [
    "# print out the column names again, to verify that the ten 'contains_*' columns are now present\n",
    "tr1.columns.values"
   ]
  },
  {
   "cell_type": "code",
   "execution_count": 10,
   "metadata": {
    "collapsed": true
   },
   "outputs": [],
   "source": [
    "# we'll target the logarithm of the salary, not the salary itself\n",
    "\n",
    "tr1['SalaryNormalizedLog'] = list( math.log(sn) for sn in columnToGen(tr1['SalaryNormalized']) )"
   ]
  },
  {
   "cell_type": "code",
   "execution_count": 11,
   "metadata": {},
   "outputs": [
    {
     "name": "stdout",
     "output_type": "stream",
     "text": [
      "SalaryNormalizedLog ~ London + longitude + latitude + contains_developer+contains_engineer+contains_analyst+contains_manager+contains_senior+contains_software+contains_support+contains_web+contains_c+contains_it\n"
     ]
    }
   ],
   "source": [
    "# the fields we'll use in the regression\n",
    "# - distance from London\n",
    "# - longitude\n",
    "# - latitude\n",
    "# - the ten boolean columns from Title\n",
    "formula = 'SalaryNormalizedLog ~ London + longitude + latitude + ' + '+'.join('contains_'+top10 for top10 in top10words)\n",
    "print formula"
   ]
  },
  {
   "cell_type": "code",
   "execution_count": 12,
   "metadata": {},
   "outputs": [
    {
     "name": "stdout",
     "output_type": "stream",
     "text": [
      "                             OLS Regression Results                            \n",
      "===============================================================================\n",
      "Dep. Variable:     SalaryNormalizedLog   R-squared:                       0.166\n",
      "Model:                             OLS   Adj. R-squared:                  0.166\n",
      "Method:                  Least Squares   F-statistic:                     590.6\n",
      "Date:                 Tue, 26 Sep 2017   Prob (F-statistic):               0.00\n",
      "Time:                         16:08:48   Log-Likelihood:                -17907.\n",
      "No. Observations:                38483   AIC:                         3.584e+04\n",
      "Df Residuals:                    38469   BIC:                         3.596e+04\n",
      "Df Model:                           13                                         \n",
      "Covariance Type:             nonrobust                                         \n",
      "==============================================================================================\n",
      "                                 coef    std err          t      P>|t|      [0.025      0.975]\n",
      "----------------------------------------------------------------------------------------------\n",
      "Intercept                      6.7527      0.198     34.123      0.000       6.365       7.141\n",
      "contains_developer[T.True]    -0.0487      0.005     -9.496      0.000      -0.059      -0.039\n",
      "contains_engineer[T.True]     -0.0458      0.006     -7.297      0.000      -0.058      -0.033\n",
      "contains_analyst[T.True]      -0.0582      0.007     -8.725      0.000      -0.071      -0.045\n",
      "contains_manager[T.True]       0.1539      0.007     22.639      0.000       0.141       0.167\n",
      "contains_senior[T.True]        0.1669      0.007     25.369      0.000       0.154       0.180\n",
      "contains_software[T.True]     -0.0737      0.007    -10.556      0.000      -0.087      -0.060\n",
      "contains_support[T.True]      -0.2841      0.007    -38.212      0.000      -0.299      -0.270\n",
      "contains_web[T.True]          -0.1914      0.008    -23.188      0.000      -0.208      -0.175\n",
      "contains_c[T.True]            -0.0090      0.009     -1.041      0.298      -0.026       0.008\n",
      "contains_it[T.True]           -0.2323      0.009    -26.735      0.000      -0.249      -0.215\n",
      "London                        -0.0014   5.48e-05    -25.106      0.000      -0.001      -0.001\n",
      "longitude                     -0.0746      0.006    -13.549      0.000      -0.085      -0.064\n",
      "latitude                       0.0776      0.004     20.144      0.000       0.070       0.085\n",
      "==============================================================================\n",
      "Omnibus:                     1572.834   Durbin-Watson:                   1.611\n",
      "Prob(Omnibus):                  0.000   Jarque-Bera (JB):             3041.501\n",
      "Skew:                          -0.309   Prob(JB):                         0.00\n",
      "Kurtosis:                       4.230   Cond. No.                     2.91e+04\n",
      "==============================================================================\n",
      "\n",
      "Warnings:\n",
      "[1] Standard Errors assume that the covariance matrix of the errors is correctly specified.\n",
      "[2] The condition number is large, 2.91e+04. This might indicate that there are\n",
      "strong multicollinearity or other numerical problems.\n",
      "Intercept                     6.752680\n",
      "contains_developer[T.True]   -0.048690\n",
      "contains_engineer[T.True]    -0.045790\n",
      "contains_analyst[T.True]     -0.058216\n",
      "contains_manager[T.True]      0.153929\n",
      "contains_senior[T.True]       0.166903\n",
      "contains_software[T.True]    -0.073732\n",
      "contains_support[T.True]     -0.284094\n",
      "contains_web[T.True]         -0.191376\n",
      "contains_c[T.True]           -0.008971\n",
      "contains_it[T.True]          -0.232335\n",
      "London                       -0.001375\n",
      "longitude                    -0.074566\n",
      "latitude                      0.077574\n",
      "dtype: float64\n"
     ]
    }
   ],
   "source": [
    "#  ***************************************\n",
    "#  ************** IMPORTANT **************\n",
    "#  ***************************************\n",
    "# This Jupyter cell - and the following one - are 'cheating', by measuring the performance within the\n",
    "# same dataset that was used for estimating the parameters. Later, I'll do\n",
    "# a more appropriate 'train-and-test' division. The good news is that the\n",
    "# performance doesn't change much.\n",
    "\n",
    "\n",
    "\n",
    "res = smf.ols(formula, data = tr1).fit()\n",
    "print res.summary()\n",
    "print res.params\n",
    "#res.predict(tr1)"
   ]
  },
  {
   "cell_type": "code",
   "execution_count": 13,
   "metadata": {},
   "outputs": [
    {
     "data": {
      "text/plain": [
       "<matplotlib.collections.PathCollection at 0x7f393771dad0>"
      ]
     },
     "execution_count": 13,
     "metadata": {},
     "output_type": "execute_result"
    },
    {
     "data": {
      "image/png": "[encoded data removed]",
      "text/plain": [
       "<matplotlib.figure.Figure at 0x7f393782e790>"
      ]
     },
     "metadata": {},
     "output_type": "display_data"
    }
   ],
   "source": [
    "plt.scatter(res.fittedvalues, tr1['SalaryNormalizedLog'])"
   ]
  },
  {
   "cell_type": "code",
   "execution_count": 14,
   "metadata": {
    "collapsed": true
   },
   "outputs": [],
   "source": [
    "# Next, we take a more appropriate train and test approach.\n",
    "# Divide the dataset into ten bins. For each bin, estimate coefficients\n",
    "# in the remaining 90% of the, then make predictions in the 10% (the 'current' bin)\n",
    "# and compare the predictions to the truth."
   ]
  },
  {
   "cell_type": "code",
   "execution_count": 17,
   "metadata": {},
   "outputs": [
    {
     "name": "stdout",
     "output_type": "stream",
     "text": [
      "                             OLS Regression Results                            \n",
      "===============================================================================\n",
      "Dep. Variable:     SalaryNormalizedLog   R-squared:                       0.167\n",
      "Model:                             OLS   Adj. R-squared:                  0.167\n",
      "Method:                  Least Squares   F-statistic:                     534.9\n",
      "Date:                 Tue, 26 Sep 2017   Prob (F-statistic):               0.00\n",
      "Time:                         16:09:20   Log-Likelihood:                -16067.\n",
      "No. Observations:                34634   AIC:                         3.216e+04\n",
      "Df Residuals:                    34620   BIC:                         3.228e+04\n",
      "Df Model:                           13                                         \n",
      "Covariance Type:             nonrobust                                         \n",
      "==============================================================================================\n",
      "                                 coef    std err          t      P>|t|      [0.025      0.975]\n",
      "----------------------------------------------------------------------------------------------\n",
      "Intercept                      6.7001      0.208     32.195      0.000       6.292       7.108\n",
      "contains_developer[T.True]    -0.0471      0.005     -8.724      0.000      -0.058      -0.037\n",
      "contains_engineer[T.True]     -0.0411      0.007     -6.210      0.000      -0.054      -0.028\n",
      "contains_analyst[T.True]      -0.0583      0.007     -8.277      0.000      -0.072      -0.044\n",
      "contains_manager[T.True]       0.1539      0.007     21.576      0.000       0.140       0.168\n",
      "contains_senior[T.True]        0.1672      0.007     24.165      0.000       0.154       0.181\n",
      "contains_software[T.True]     -0.0736      0.007    -10.008      0.000      -0.088      -0.059\n",
      "contains_support[T.True]      -0.2853      0.008    -36.384      0.000      -0.301      -0.270\n",
      "contains_web[T.True]          -0.1904      0.009    -21.846      0.000      -0.207      -0.173\n",
      "contains_c[T.True]            -0.0100      0.009     -1.105      0.269      -0.028       0.008\n",
      "contains_it[T.True]           -0.2315      0.009    -25.366      0.000      -0.249      -0.214\n",
      "London                        -0.0014   5.75e-05    -24.103      0.000      -0.001      -0.001\n",
      "longitude                     -0.0752      0.006    -13.008      0.000      -0.087      -0.064\n",
      "latitude                       0.0786      0.004     19.408      0.000       0.071       0.087\n",
      "==============================================================================\n",
      "Omnibus:                     1364.597   Durbin-Watson:                   1.623\n",
      "Prob(Omnibus):                  0.000   Jarque-Bera (JB):             2626.078\n",
      "Skew:                          -0.300   Prob(JB):                         0.00\n",
      "Kurtosis:                       4.208   Cond. No.                     2.91e+04\n",
      "==============================================================================\n",
      "\n",
      "Warnings:\n",
      "[1] Standard Errors assume that the covariance matrix of the errors is correctly specified.\n",
      "[2] The condition number is large, 2.91e+04. This might indicate that there are\n",
      "strong multicollinearity or other numerical problems.\n",
      "                             OLS Regression Results                            \n",
      "===============================================================================\n",
      "Dep. Variable:     SalaryNormalizedLog   R-squared:                       0.168\n",
      "Model:                             OLS   Adj. R-squared:                  0.167\n",
      "Method:                  Least Squares   F-statistic:                     536.0\n",
      "Date:                 Tue, 26 Sep 2017   Prob (F-statistic):               0.00\n",
      "Time:                         16:09:20   Log-Likelihood:                -16126.\n",
      "No. Observations:                34634   AIC:                         3.228e+04\n",
      "Df Residuals:                    34620   BIC:                         3.240e+04\n",
      "Df Model:                           13                                         \n",
      "Covariance Type:             nonrobust                                         \n",
      "==============================================================================================\n",
      "                                 coef    std err          t      P>|t|      [0.025      0.975]\n",
      "----------------------------------------------------------------------------------------------\n",
      "Intercept                      6.7507      0.208     32.435      0.000       6.343       7.159\n",
      "contains_developer[T.True]    -0.0519      0.005     -9.618      0.000      -0.063      -0.041\n",
      "contains_engineer[T.True]     -0.0462      0.007     -6.996      0.000      -0.059      -0.033\n",
      "contains_analyst[T.True]      -0.0591      0.007     -8.396      0.000      -0.073      -0.045\n",
      "contains_manager[T.True]       0.1498      0.007     20.815      0.000       0.136       0.164\n",
      "contains_senior[T.True]        0.1709      0.007     24.640      0.000       0.157       0.184\n",
      "contains_software[T.True]     -0.0775      0.007    -10.491      0.000      -0.092      -0.063\n",
      "contains_support[T.True]      -0.2874      0.008    -36.636      0.000      -0.303      -0.272\n",
      "contains_web[T.True]          -0.1934      0.009    -22.249      0.000      -0.210      -0.176\n",
      "contains_c[T.True]            -0.0067      0.009     -0.733      0.464      -0.025       0.011\n",
      "contains_it[T.True]           -0.2316      0.009    -25.208      0.000      -0.250      -0.214\n",
      "London                        -0.0014   5.75e-05    -23.914      0.000      -0.001      -0.001\n",
      "longitude                     -0.0747      0.006    -12.942      0.000      -0.086      -0.063\n",
      "latitude                       0.0777      0.004     19.171      0.000       0.070       0.086\n",
      "==============================================================================\n",
      "Omnibus:                     1442.463   Durbin-Watson:                   1.625\n",
      "Prob(Omnibus):                  0.000   Jarque-Bera (JB):             2827.161\n",
      "Skew:                          -0.311   Prob(JB):                         0.00\n",
      "Kurtosis:                       4.254   Cond. No.                     2.90e+04\n",
      "==============================================================================\n",
      "\n",
      "Warnings:\n",
      "[1] Standard Errors assume that the covariance matrix of the errors is correctly specified.\n",
      "[2] The condition number is large, 2.9e+04. This might indicate that there are\n",
      "strong multicollinearity or other numerical problems.\n",
      "                             OLS Regression Results                            \n",
      "===============================================================================\n",
      "Dep. Variable:     SalaryNormalizedLog   R-squared:                       0.165\n",
      "Model:                             OLS   Adj. R-squared:                  0.165\n",
      "Method:                  Least Squares   F-statistic:                     527.0\n",
      "Date:                 Tue, 26 Sep 2017   Prob (F-statistic):               0.00\n",
      "Time:                         16:09:21   Log-Likelihood:                -16187.\n",
      "No. Observations:                34634   AIC:                         3.240e+04\n",
      "Df Residuals:                    34620   BIC:                         3.252e+04\n",
      "Df Model:                           13                                         \n",
      "Covariance Type:             nonrobust                                         \n",
      "==============================================================================================\n",
      "                                 coef    std err          t      P>|t|      [0.025      0.975]\n",
      "----------------------------------------------------------------------------------------------\n",
      "Intercept                      6.8122      0.209     32.636      0.000       6.403       7.221\n",
      "contains_developer[T.True]    -0.0507      0.005     -9.373      0.000      -0.061      -0.040\n",
      "contains_engineer[T.True]     -0.0488      0.007     -7.351      0.000      -0.062      -0.036\n",
      "contains_analyst[T.True]      -0.0596      0.007     -8.495      0.000      -0.073      -0.046\n",
      "contains_manager[T.True]       0.1521      0.007     21.091      0.000       0.138       0.166\n",
      "contains_senior[T.True]        0.1665      0.007     23.921      0.000       0.153       0.180\n",
      "contains_software[T.True]     -0.0747      0.007    -10.107      0.000      -0.089      -0.060\n",
      "contains_support[T.True]      -0.2820      0.008    -36.052      0.000      -0.297      -0.267\n",
      "contains_web[T.True]          -0.1899      0.009    -21.757      0.000      -0.207      -0.173\n",
      "contains_c[T.True]            -0.0058      0.009     -0.644      0.520      -0.024       0.012\n",
      "contains_it[T.True]           -0.2351      0.009    -25.646      0.000      -0.253      -0.217\n",
      "London                        -0.0014   5.77e-05    -23.519      0.000      -0.001      -0.001\n",
      "longitude                     -0.0728      0.006    -12.557      0.000      -0.084      -0.061\n",
      "latitude                       0.0765      0.004     18.821      0.000       0.068       0.084\n",
      "==============================================================================\n",
      "Omnibus:                     1472.490   Durbin-Watson:                   1.629\n",
      "Prob(Omnibus):                  0.000   Jarque-Bera (JB):             2873.980\n",
      "Skew:                          -0.318   Prob(JB):                         0.00\n",
      "Kurtosis:                       4.260   Cond. No.                     2.90e+04\n",
      "==============================================================================\n",
      "\n",
      "Warnings:\n",
      "[1] Standard Errors assume that the covariance matrix of the errors is correctly specified.\n",
      "[2] The condition number is large, 2.9e+04. This might indicate that there are\n",
      "strong multicollinearity or other numerical problems.\n"
     ]
    },
    {
     "name": "stdout",
     "output_type": "stream",
     "text": [
      "                             OLS Regression Results                            \n",
      "===============================================================================\n",
      "Dep. Variable:     SalaryNormalizedLog   R-squared:                       0.167\n",
      "Model:                             OLS   Adj. R-squared:                  0.166\n",
      "Method:                  Least Squares   F-statistic:                     533.1\n",
      "Date:                 Tue, 26 Sep 2017   Prob (F-statistic):               0.00\n",
      "Time:                         16:09:21   Log-Likelihood:                -16119.\n",
      "No. Observations:                34635   AIC:                         3.227e+04\n",
      "Df Residuals:                    34621   BIC:                         3.238e+04\n",
      "Df Model:                           13                                         \n",
      "Covariance Type:             nonrobust                                         \n",
      "==============================================================================================\n",
      "                                 coef    std err          t      P>|t|      [0.025      0.975]\n",
      "----------------------------------------------------------------------------------------------\n",
      "Intercept                      6.7019      0.209     32.138      0.000       6.293       7.111\n",
      "contains_developer[T.True]    -0.0505      0.005     -9.336      0.000      -0.061      -0.040\n",
      "contains_engineer[T.True]     -0.0498      0.007     -7.531      0.000      -0.063      -0.037\n",
      "contains_analyst[T.True]      -0.0604      0.007     -8.599      0.000      -0.074      -0.047\n",
      "contains_manager[T.True]       0.1498      0.007     20.883      0.000       0.136       0.164\n",
      "contains_senior[T.True]        0.1657      0.007     23.857      0.000       0.152       0.179\n",
      "contains_software[T.True]     -0.0693      0.007     -9.392      0.000      -0.084      -0.055\n",
      "contains_support[T.True]      -0.2855      0.008    -36.467      0.000      -0.301      -0.270\n",
      "contains_web[T.True]          -0.1918      0.009    -22.106      0.000      -0.209      -0.175\n",
      "contains_c[T.True]            -0.0122      0.009     -1.341      0.180      -0.030       0.006\n",
      "contains_it[T.True]           -0.2323      0.009    -25.356      0.000      -0.250      -0.214\n",
      "London                        -0.0014   5.77e-05    -24.024      0.000      -0.001      -0.001\n",
      "longitude                     -0.0752      0.006    -12.957      0.000      -0.087      -0.064\n",
      "latitude                       0.0786      0.004     19.372      0.000       0.071       0.087\n",
      "==============================================================================\n",
      "Omnibus:                     1438.598   Durbin-Watson:                   1.623\n",
      "Prob(Omnibus):                  0.000   Jarque-Bera (JB):             2833.481\n",
      "Skew:                          -0.308   Prob(JB):                         0.00\n",
      "Kurtosis:                       4.258   Cond. No.                     2.91e+04\n",
      "==============================================================================\n",
      "\n",
      "Warnings:\n",
      "[1] Standard Errors assume that the covariance matrix of the errors is correctly specified.\n",
      "[2] The condition number is large, 2.91e+04. This might indicate that there are\n",
      "strong multicollinearity or other numerical problems.\n",
      "                             OLS Regression Results                            \n",
      "===============================================================================\n",
      "Dep. Variable:     SalaryNormalizedLog   R-squared:                       0.165\n",
      "Model:                             OLS   Adj. R-squared:                  0.164\n",
      "Method:                  Least Squares   F-statistic:                     524.8\n",
      "Date:                 Tue, 26 Sep 2017   Prob (F-statistic):               0.00\n",
      "Time:                         16:09:21   Log-Likelihood:                -16089.\n",
      "No. Observations:                34635   AIC:                         3.221e+04\n",
      "Df Residuals:                    34621   BIC:                         3.232e+04\n",
      "Df Model:                           13                                         \n",
      "Covariance Type:             nonrobust                                         \n",
      "==============================================================================================\n",
      "                                 coef    std err          t      P>|t|      [0.025      0.975]\n",
      "----------------------------------------------------------------------------------------------\n",
      "Intercept                      6.7028      0.209     32.140      0.000       6.294       7.112\n",
      "contains_developer[T.True]    -0.0490      0.005     -9.072      0.000      -0.060      -0.038\n",
      "contains_engineer[T.True]     -0.0434      0.007     -6.587      0.000      -0.056      -0.031\n",
      "contains_analyst[T.True]      -0.0574      0.007     -8.180      0.000      -0.071      -0.044\n",
      "contains_manager[T.True]       0.1571      0.007     21.857      0.000       0.143       0.171\n",
      "contains_senior[T.True]        0.1651      0.007     23.809      0.000       0.152       0.179\n",
      "contains_software[T.True]     -0.0760      0.007    -10.335      0.000      -0.090      -0.062\n",
      "contains_support[T.True]      -0.2818      0.008    -36.036      0.000      -0.297      -0.266\n",
      "contains_web[T.True]          -0.1883      0.009    -21.747      0.000      -0.205      -0.171\n",
      "contains_c[T.True]            -0.0086      0.009     -0.946      0.344      -0.026       0.009\n",
      "contains_it[T.True]           -0.2297      0.009    -24.928      0.000      -0.248      -0.212\n",
      "London                        -0.0014   5.78e-05    -24.028      0.000      -0.002      -0.001\n",
      "longitude                     -0.0765      0.006    -13.161      0.000      -0.088      -0.065\n",
      "latitude                       0.0785      0.004     19.345      0.000       0.071       0.086\n",
      "==============================================================================\n",
      "Omnibus:                     1471.684   Durbin-Watson:                   1.620\n",
      "Prob(Omnibus):                  0.000   Jarque-Bera (JB):             2907.360\n",
      "Skew:                          -0.314   Prob(JB):                         0.00\n",
      "Kurtosis:                       4.273   Cond. No.                     2.91e+04\n",
      "==============================================================================\n",
      "\n",
      "Warnings:\n",
      "[1] Standard Errors assume that the covariance matrix of the errors is correctly specified.\n",
      "[2] The condition number is large, 2.91e+04. This might indicate that there are\n",
      "strong multicollinearity or other numerical problems.\n",
      "                             OLS Regression Results                            \n",
      "===============================================================================\n",
      "Dep. Variable:     SalaryNormalizedLog   R-squared:                       0.165\n",
      "Model:                             OLS   Adj. R-squared:                  0.164\n",
      "Method:                  Least Squares   F-statistic:                     524.8\n",
      "Date:                 Tue, 26 Sep 2017   Prob (F-statistic):               0.00\n",
      "Time:                         16:09:21   Log-Likelihood:                -16123.\n",
      "No. Observations:                34635   AIC:                         3.227e+04\n",
      "Df Residuals:                    34621   BIC:                         3.239e+04\n",
      "Df Model:                           13                                         \n",
      "Covariance Type:             nonrobust                                         \n",
      "==============================================================================================\n",
      "                                 coef    std err          t      P>|t|      [0.025      0.975]\n",
      "----------------------------------------------------------------------------------------------\n",
      "Intercept                      6.7516      0.209     32.270      0.000       6.342       7.162\n",
      "contains_developer[T.True]    -0.0464      0.005     -8.554      0.000      -0.057      -0.036\n",
      "contains_engineer[T.True]     -0.0469      0.007     -7.081      0.000      -0.060      -0.034\n",
      "contains_analyst[T.True]      -0.0585      0.007     -8.317      0.000      -0.072      -0.045\n",
      "contains_manager[T.True]       0.1535      0.007     21.512      0.000       0.139       0.167\n",
      "contains_senior[T.True]        0.1625      0.007     23.473      0.000       0.149       0.176\n",
      "contains_software[T.True]     -0.0744      0.007    -10.099      0.000      -0.089      -0.060\n",
      "contains_support[T.True]      -0.2847      0.008    -36.191      0.000      -0.300      -0.269\n",
      "contains_web[T.True]          -0.1903      0.009    -21.805      0.000      -0.207      -0.173\n",
      "contains_c[T.True]            -0.0077      0.009     -0.853      0.394      -0.026       0.010\n",
      "contains_it[T.True]           -0.2295      0.009    -25.073      0.000      -0.247      -0.212\n",
      "London                        -0.0014   5.79e-05    -23.581      0.000      -0.001      -0.001\n",
      "longitude                     -0.0736      0.006    -12.650      0.000      -0.085      -0.062\n",
      "latitude                       0.0776      0.004     19.053      0.000       0.070       0.086\n",
      "==============================================================================\n",
      "Omnibus:                     1444.533   Durbin-Watson:                   1.623\n",
      "Prob(Omnibus):                  0.000   Jarque-Bera (JB):             2824.766\n",
      "Skew:                          -0.312   Prob(JB):                         0.00\n",
      "Kurtosis:                       4.252   Cond. No.                     2.91e+04\n",
      "==============================================================================\n",
      "\n",
      "Warnings:\n",
      "[1] Standard Errors assume that the covariance matrix of the errors is correctly specified.\n",
      "[2] The condition number is large, 2.91e+04. This might indicate that there are\n",
      "strong multicollinearity or other numerical problems.\n",
      "                             OLS Regression Results                            \n",
      "===============================================================================\n",
      "Dep. Variable:     SalaryNormalizedLog   R-squared:                       0.166\n",
      "Model:                             OLS   Adj. R-squared:                  0.166\n",
      "Method:                  Least Squares   F-statistic:                     531.6\n",
      "Date:                 Tue, 26 Sep 2017   Prob (F-statistic):               0.00\n",
      "Time:                         16:09:21   Log-Likelihood:                -16114.\n",
      "No. Observations:                34635   AIC:                         3.226e+04\n",
      "Df Residuals:                    34621   BIC:                         3.237e+04\n",
      "Df Model:                           13                                         \n",
      "Covariance Type:             nonrobust                                         \n",
      "==============================================================================================\n",
      "                                 coef    std err          t      P>|t|      [0.025      0.975]\n",
      "----------------------------------------------------------------------------------------------\n",
      "Intercept                      6.7474      0.209     32.321      0.000       6.338       7.157\n",
      "contains_developer[T.True]    -0.0464      0.005     -8.598      0.000      -0.057      -0.036\n",
      "contains_engineer[T.True]     -0.0415      0.007     -6.275      0.000      -0.054      -0.029\n",
      "contains_analyst[T.True]      -0.0559      0.007     -7.940      0.000      -0.070      -0.042\n",
      "contains_manager[T.True]       0.1576      0.007     21.974      0.000       0.144       0.172\n",
      "contains_senior[T.True]        0.1666      0.007     23.971      0.000       0.153       0.180\n",
      "contains_software[T.True]     -0.0728      0.007     -9.869      0.000      -0.087      -0.058\n",
      "contains_support[T.True]      -0.2843      0.008    -36.330      0.000      -0.300      -0.269\n",
      "contains_web[T.True]          -0.1905      0.009    -21.898      0.000      -0.208      -0.173\n",
      "contains_c[T.True]            -0.0094      0.009     -1.035      0.301      -0.027       0.008\n",
      "contains_it[T.True]           -0.2303      0.009    -25.219      0.000      -0.248      -0.212\n",
      "London                        -0.0014   5.79e-05    -23.789      0.000      -0.001      -0.001\n",
      "longitude                     -0.0744      0.006    -12.772      0.000      -0.086      -0.063\n",
      "latitude                       0.0776      0.004     19.111      0.000       0.070       0.086\n",
      "==============================================================================\n",
      "Omnibus:                     1359.063   Durbin-Watson:                   1.626\n",
      "Prob(Omnibus):                  0.000   Jarque-Bera (JB):             2572.978\n",
      "Skew:                          -0.304   Prob(JB):                         0.00\n",
      "Kurtosis:                       4.189   Cond. No.                     2.91e+04\n",
      "==============================================================================\n",
      "\n",
      "Warnings:\n",
      "[1] Standard Errors assume that the covariance matrix of the errors is correctly specified.\n",
      "[2] The condition number is large, 2.91e+04. This might indicate that there are\n",
      "strong multicollinearity or other numerical problems.\n",
      "                             OLS Regression Results                            \n",
      "===============================================================================\n",
      "Dep. Variable:     SalaryNormalizedLog   R-squared:                       0.167\n",
      "Model:                             OLS   Adj. R-squared:                  0.167\n",
      "Method:                  Least Squares   F-statistic:                     535.0\n",
      "Date:                 Tue, 26 Sep 2017   Prob (F-statistic):               0.00\n",
      "Time:                         16:09:21   Log-Likelihood:                -16129.\n",
      "No. Observations:                34635   AIC:                         3.229e+04\n",
      "Df Residuals:                    34621   BIC:                         3.240e+04\n",
      "Df Model:                           13                                         \n",
      "Covariance Type:             nonrobust                                         \n",
      "==============================================================================================\n",
      "                                 coef    std err          t      P>|t|      [0.025      0.975]\n",
      "----------------------------------------------------------------------------------------------\n",
      "Intercept                      6.8114      0.209     32.620      0.000       6.402       7.221\n",
      "contains_developer[T.True]    -0.0502      0.005     -9.280      0.000      -0.061      -0.040\n",
      "contains_engineer[T.True]     -0.0486      0.007     -7.344      0.000      -0.062      -0.036\n",
      "contains_analyst[T.True]      -0.0582      0.007     -8.281      0.000      -0.072      -0.044\n",
      "contains_manager[T.True]       0.1522      0.007     21.217      0.000       0.138       0.166\n",
      "contains_senior[T.True]        0.1719      0.007     24.825      0.000       0.158       0.186\n",
      "contains_software[T.True]     -0.0740      0.007    -10.044      0.000      -0.088      -0.060\n",
      "contains_support[T.True]      -0.2846      0.008    -36.288      0.000      -0.300      -0.269\n",
      "contains_web[T.True]          -0.1930      0.009    -22.219      0.000      -0.210      -0.176\n",
      "contains_c[T.True]            -0.0071      0.009     -0.779      0.436      -0.025       0.011\n",
      "contains_it[T.True]           -0.2310      0.009    -25.198      0.000      -0.249      -0.213\n",
      "London                        -0.0014   5.78e-05    -23.701      0.000      -0.001      -0.001\n",
      "longitude                     -0.0748      0.006    -12.868      0.000      -0.086      -0.063\n",
      "latitude                       0.0765      0.004     18.817      0.000       0.068       0.084\n",
      "==============================================================================\n",
      "Omnibus:                     1433.306   Durbin-Watson:                   1.617\n",
      "Prob(Omnibus):                  0.000   Jarque-Bera (JB):             2752.315\n",
      "Skew:                          -0.315   Prob(JB):                         0.00\n",
      "Kurtosis:                       4.229   Cond. No.                     2.91e+04\n",
      "==============================================================================\n",
      "\n",
      "Warnings:\n",
      "[1] Standard Errors assume that the covariance matrix of the errors is correctly specified.\n",
      "[2] The condition number is large, 2.91e+04. This might indicate that there are\n",
      "strong multicollinearity or other numerical problems.\n"
     ]
    },
    {
     "name": "stdout",
     "output_type": "stream",
     "text": [
      "                             OLS Regression Results                            \n",
      "===============================================================================\n",
      "Dep. Variable:     SalaryNormalizedLog   R-squared:                       0.167\n",
      "Model:                             OLS   Adj. R-squared:                  0.166\n",
      "Method:                  Least Squares   F-statistic:                     532.7\n",
      "Date:                 Tue, 26 Sep 2017   Prob (F-statistic):               0.00\n",
      "Time:                         16:09:21   Log-Likelihood:                -16091.\n",
      "No. Observations:                34635   AIC:                         3.221e+04\n",
      "Df Residuals:                    34621   BIC:                         3.233e+04\n",
      "Df Model:                           13                                         \n",
      "Covariance Type:             nonrobust                                         \n",
      "==============================================================================================\n",
      "                                 coef    std err          t      P>|t|      [0.025      0.975]\n",
      "----------------------------------------------------------------------------------------------\n",
      "Intercept                      6.7297      0.209     32.267      0.000       6.321       7.139\n",
      "contains_developer[T.True]    -0.0476      0.005     -8.812      0.000      -0.058      -0.037\n",
      "contains_engineer[T.True]     -0.0455      0.007     -6.894      0.000      -0.058      -0.033\n",
      "contains_analyst[T.True]      -0.0586      0.007     -8.315      0.000      -0.072      -0.045\n",
      "contains_manager[T.True]       0.1551      0.007     21.710      0.000       0.141       0.169\n",
      "contains_senior[T.True]        0.1645      0.007     23.713      0.000       0.151       0.178\n",
      "contains_software[T.True]     -0.0707      0.007     -9.638      0.000      -0.085      -0.056\n",
      "contains_support[T.True]      -0.2836      0.008    -36.139      0.000      -0.299      -0.268\n",
      "contains_web[T.True]          -0.1933      0.009    -22.123      0.000      -0.210      -0.176\n",
      "contains_c[T.True]            -0.0124      0.009     -1.368      0.171      -0.030       0.005\n",
      "contains_it[T.True]           -0.2322      0.009    -25.291      0.000      -0.250      -0.214\n",
      "London                        -0.0014   5.77e-05    -23.904      0.000      -0.001      -0.001\n",
      "longitude                     -0.0745      0.006    -12.840      0.000      -0.086      -0.063\n",
      "latitude                       0.0780      0.004     19.223      0.000       0.070       0.086\n",
      "==============================================================================\n",
      "Omnibus:                     1413.841   Durbin-Watson:                   1.614\n",
      "Prob(Omnibus):                  0.000   Jarque-Bera (JB):             2702.318\n",
      "Skew:                          -0.313   Prob(JB):                         0.00\n",
      "Kurtosis:                       4.217   Cond. No.                     2.91e+04\n",
      "==============================================================================\n",
      "\n",
      "Warnings:\n",
      "[1] Standard Errors assume that the covariance matrix of the errors is correctly specified.\n",
      "[2] The condition number is large, 2.91e+04. This might indicate that there are\n",
      "strong multicollinearity or other numerical problems.\n",
      "                             OLS Regression Results                            \n",
      "===============================================================================\n",
      "Dep. Variable:     SalaryNormalizedLog   R-squared:                       0.168\n",
      "Model:                             OLS   Adj. R-squared:                  0.167\n",
      "Method:                  Least Squares   F-statistic:                     536.0\n",
      "Date:                 Tue, 26 Sep 2017   Prob (F-statistic):               0.00\n",
      "Time:                         16:09:21   Log-Likelihood:                -16112.\n",
      "No. Observations:                34635   AIC:                         3.225e+04\n",
      "Df Residuals:                    34621   BIC:                         3.237e+04\n",
      "Df Model:                           13                                         \n",
      "Covariance Type:             nonrobust                                         \n",
      "==============================================================================================\n",
      "                                 coef    std err          t      P>|t|      [0.025      0.975]\n",
      "----------------------------------------------------------------------------------------------\n",
      "Intercept                      6.8215      0.209     32.698      0.000       6.413       7.230\n",
      "contains_developer[T.True]    -0.0471      0.005     -8.720      0.000      -0.058      -0.037\n",
      "contains_engineer[T.True]     -0.0461      0.007     -6.954      0.000      -0.059      -0.033\n",
      "contains_analyst[T.True]      -0.0562      0.007     -7.975      0.000      -0.070      -0.042\n",
      "contains_manager[T.True]       0.1583      0.007     22.139      0.000       0.144       0.172\n",
      "contains_senior[T.True]        0.1681      0.007     24.289      0.000       0.155       0.182\n",
      "contains_software[T.True]     -0.0743      0.007    -10.152      0.000      -0.089      -0.060\n",
      "contains_support[T.True]      -0.2818      0.008    -35.981      0.000      -0.297      -0.266\n",
      "contains_web[T.True]          -0.1930      0.009    -22.227      0.000      -0.210      -0.176\n",
      "contains_c[T.True]            -0.0099      0.009     -1.083      0.279      -0.028       0.008\n",
      "contains_it[T.True]           -0.2402      0.009    -26.336      0.000      -0.258      -0.222\n",
      "London                        -0.0014   5.76e-05    -23.605      0.000      -0.001      -0.001\n",
      "longitude                     -0.0739      0.006    -12.770      0.000      -0.085      -0.063\n",
      "latitude                       0.0762      0.004     18.767      0.000       0.068       0.084\n",
      "==============================================================================\n",
      "Omnibus:                     1318.543   Durbin-Watson:                   1.617\n",
      "Prob(Omnibus):                  0.000   Jarque-Bera (JB):             2470.650\n",
      "Skew:                          -0.299   Prob(JB):                         0.00\n",
      "Kurtosis:                       4.164   Cond. No.                     2.91e+04\n",
      "==============================================================================\n",
      "\n",
      "Warnings:\n",
      "[1] Standard Errors assume that the covariance matrix of the errors is correctly specified.\n",
      "[2] The condition number is large, 2.91e+04. This might indicate that there are\n",
      "strong multicollinearity or other numerical problems.\n"
     ]
    }
   ],
   "source": [
    "NUMBER_OF_BINS=10\n",
    "\n",
    "preds = []\n",
    "truth = []\n",
    "\n",
    "for bin in range(NUMBER_OF_BINS):\n",
    "    # divide the data into two, nonoverlapping, portions\n",
    "    test     = tr1[tr1.index % NUMBER_OF_BINS == bin]\n",
    "    subtrain = tr1[tr1.index % NUMBER_OF_BINS != bin]\n",
    "    \n",
    "    # estimate coefficients\n",
    "    res = smf.ols(formula, data = subtrain).fit()\n",
    "    print res.summary()\n",
    "\n",
    "    # make predictions in the current bin, based on the coefficients\n",
    "    # that have been estimated in 'subtrain'\n",
    "    somePreds = res.predict(test)\n",
    "    \n",
    "    # store the predictions, and the corresponding truths.\n",
    "    preds.extend(somePreds.tolist())\n",
    "    truth.extend( list(columnToGen(test['SalaryNormalizedLog'])))\n",
    "\n",
    "# verify that the number of predictions is the same as the number of items in the dataset\n",
    "assert len(preds) == tr1.shape[0]"
   ]
  },
  {
   "cell_type": "code",
   "execution_count": 18,
   "metadata": {},
   "outputs": [
    {
     "data": {
      "text/plain": [
       "<matplotlib.collections.PathCollection at 0x7f3937548590>"
      ]
     },
     "execution_count": 18,
     "metadata": {},
     "output_type": "execute_result"
    },
    {
     "data": {
      "image/png": "[encoded data removed]",
      "text/plain": [
       "<matplotlib.figure.Figure at 0x7f3937763c90>"
      ]
     },
     "metadata": {},
     "output_type": "display_data"
    }
   ],
   "source": [
    "plt.scatter(preds, truth)"
   ]
  },
  {
   "cell_type": "code",
   "execution_count": 19,
   "metadata": {},
   "outputs": [
    {
     "name": "stdout",
     "output_type": "stream",
     "text": [
      "0.165876290707\n"
     ]
    }
   ],
   "source": [
    "# Compute the variance-explained, which is the square of the correlation\n",
    "# It's between zero and one. We want this to be as big as possible, and it\n",
    "# is currently 0.165\n",
    "\n",
    "cr = pearsonr(preds, truth)\n",
    "print cr[0] ** 2"
   ]
  },
  {
   "cell_type": "code",
   "execution_count": null,
   "metadata": {
    "collapsed": true
   },
   "outputs": [],
   "source": []
  }
 ],
 "metadata": {
  "kernelspec": {
   "display_name": "Python 2",
   "language": "python",
   "name": "python2"
  },
  "language_info": {
   "codemirror_mode": {
    "name": "ipython",
    "version": 2
   },
   "file_extension": ".py",
   "mimetype": "text/x-python",
   "name": "python",
   "nbconvert_exporter": "python",
   "pygments_lexer": "ipython2",
   "version": "2.7.12"
  }
 },
 "nbformat": 4,
 "nbformat_minor": 2
}
